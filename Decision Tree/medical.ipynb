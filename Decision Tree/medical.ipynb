{
 "cells": [
  {
   "cell_type": "code",
   "execution_count": 3,
   "metadata": {},
   "outputs": [
    {
     "data": {
      "text/html": [
       "<div>\n",
       "<style scoped>\n",
       "    .dataframe tbody tr th:only-of-type {\n",
       "        vertical-align: middle;\n",
       "    }\n",
       "\n",
       "    .dataframe tbody tr th {\n",
       "        vertical-align: top;\n",
       "    }\n",
       "\n",
       "    .dataframe thead th {\n",
       "        text-align: right;\n",
       "    }\n",
       "</style>\n",
       "<table border=\"1\" class=\"dataframe\">\n",
       "  <thead>\n",
       "    <tr style=\"text-align: right;\">\n",
       "      <th></th>\n",
       "      <th>fever</th>\n",
       "      <th>cough</th>\n",
       "      <th>tiredness</th>\n",
       "      <th>headache</th>\n",
       "      <th>stuffy nose</th>\n",
       "      <th>runny nose</th>\n",
       "      <th>sneezing</th>\n",
       "      <th>sore throat</th>\n",
       "      <th>diagnosis</th>\n",
       "    </tr>\n",
       "  </thead>\n",
       "  <tbody>\n",
       "    <tr>\n",
       "      <th>0</th>\n",
       "      <td>1</td>\n",
       "      <td>1</td>\n",
       "      <td>1</td>\n",
       "      <td>0</td>\n",
       "      <td>0</td>\n",
       "      <td>0</td>\n",
       "      <td>0</td>\n",
       "      <td>0</td>\n",
       "      <td>covid19</td>\n",
       "    </tr>\n",
       "    <tr>\n",
       "      <th>1</th>\n",
       "      <td>0</td>\n",
       "      <td>1</td>\n",
       "      <td>1</td>\n",
       "      <td>1</td>\n",
       "      <td>0</td>\n",
       "      <td>0</td>\n",
       "      <td>0</td>\n",
       "      <td>0</td>\n",
       "      <td>covid19</td>\n",
       "    </tr>\n",
       "    <tr>\n",
       "      <th>2</th>\n",
       "      <td>1</td>\n",
       "      <td>1</td>\n",
       "      <td>1</td>\n",
       "      <td>0</td>\n",
       "      <td>0</td>\n",
       "      <td>0</td>\n",
       "      <td>0</td>\n",
       "      <td>0</td>\n",
       "      <td>covid19</td>\n",
       "    </tr>\n",
       "    <tr>\n",
       "      <th>3</th>\n",
       "      <td>1</td>\n",
       "      <td>1</td>\n",
       "      <td>1</td>\n",
       "      <td>0</td>\n",
       "      <td>0</td>\n",
       "      <td>0</td>\n",
       "      <td>0</td>\n",
       "      <td>0</td>\n",
       "      <td>covid19</td>\n",
       "    </tr>\n",
       "    <tr>\n",
       "      <th>4</th>\n",
       "      <td>1</td>\n",
       "      <td>1</td>\n",
       "      <td>1</td>\n",
       "      <td>0</td>\n",
       "      <td>0</td>\n",
       "      <td>0</td>\n",
       "      <td>0</td>\n",
       "      <td>0</td>\n",
       "      <td>covid19</td>\n",
       "    </tr>\n",
       "    <tr>\n",
       "      <th>...</th>\n",
       "      <td>...</td>\n",
       "      <td>...</td>\n",
       "      <td>...</td>\n",
       "      <td>...</td>\n",
       "      <td>...</td>\n",
       "      <td>...</td>\n",
       "      <td>...</td>\n",
       "      <td>...</td>\n",
       "      <td>...</td>\n",
       "    </tr>\n",
       "    <tr>\n",
       "      <th>1995</th>\n",
       "      <td>0</td>\n",
       "      <td>1</td>\n",
       "      <td>0</td>\n",
       "      <td>0</td>\n",
       "      <td>1</td>\n",
       "      <td>0</td>\n",
       "      <td>1</td>\n",
       "      <td>1</td>\n",
       "      <td>common cold</td>\n",
       "    </tr>\n",
       "    <tr>\n",
       "      <th>1996</th>\n",
       "      <td>0</td>\n",
       "      <td>0</td>\n",
       "      <td>0</td>\n",
       "      <td>1</td>\n",
       "      <td>1</td>\n",
       "      <td>1</td>\n",
       "      <td>1</td>\n",
       "      <td>0</td>\n",
       "      <td>common cold</td>\n",
       "    </tr>\n",
       "    <tr>\n",
       "      <th>1997</th>\n",
       "      <td>0</td>\n",
       "      <td>0</td>\n",
       "      <td>1</td>\n",
       "      <td>0</td>\n",
       "      <td>1</td>\n",
       "      <td>0</td>\n",
       "      <td>0</td>\n",
       "      <td>1</td>\n",
       "      <td>common cold</td>\n",
       "    </tr>\n",
       "    <tr>\n",
       "      <th>1998</th>\n",
       "      <td>0</td>\n",
       "      <td>0</td>\n",
       "      <td>0</td>\n",
       "      <td>0</td>\n",
       "      <td>1</td>\n",
       "      <td>0</td>\n",
       "      <td>0</td>\n",
       "      <td>1</td>\n",
       "      <td>common cold</td>\n",
       "    </tr>\n",
       "    <tr>\n",
       "      <th>1999</th>\n",
       "      <td>0</td>\n",
       "      <td>1</td>\n",
       "      <td>0</td>\n",
       "      <td>0</td>\n",
       "      <td>0</td>\n",
       "      <td>0</td>\n",
       "      <td>1</td>\n",
       "      <td>1</td>\n",
       "      <td>common cold</td>\n",
       "    </tr>\n",
       "  </tbody>\n",
       "</table>\n",
       "<p>2000 rows × 9 columns</p>\n",
       "</div>"
      ],
      "text/plain": [
       "      fever  cough  tiredness  headache  stuffy nose  runny nose  sneezing  \\\n",
       "0         1      1          1         0            0           0         0   \n",
       "1         0      1          1         1            0           0         0   \n",
       "2         1      1          1         0            0           0         0   \n",
       "3         1      1          1         0            0           0         0   \n",
       "4         1      1          1         0            0           0         0   \n",
       "...     ...    ...        ...       ...          ...         ...       ...   \n",
       "1995      0      1          0         0            1           0         1   \n",
       "1996      0      0          0         1            1           1         1   \n",
       "1997      0      0          1         0            1           0         0   \n",
       "1998      0      0          0         0            1           0         0   \n",
       "1999      0      1          0         0            0           0         1   \n",
       "\n",
       "      sore throat    diagnosis  \n",
       "0               0      covid19  \n",
       "1               0      covid19  \n",
       "2               0      covid19  \n",
       "3               0      covid19  \n",
       "4               0      covid19  \n",
       "...           ...          ...  \n",
       "1995            1  common cold  \n",
       "1996            0  common cold  \n",
       "1997            1  common cold  \n",
       "1998            1  common cold  \n",
       "1999            1  common cold  \n",
       "\n",
       "[2000 rows x 9 columns]"
      ]
     },
     "execution_count": 3,
     "metadata": {},
     "output_type": "execute_result"
    }
   ],
   "source": [
    "#GET BASE KNOWLEDGE \n",
    "\n",
    "import pandas as pd\n",
    "# import pandas to load and process spreadsheet-type data\n",
    "\n",
    "medical_dataset=pd.read_csv('medical_data.csv') \n",
    "\n",
    "# load a medical dataset.\n",
    "\n",
    "medical_dataset"
   ]
  },
  {
   "cell_type": "code",
   "execution_count": 4,
   "metadata": {},
   "outputs": [
    {
     "data": {
      "text/plain": [
       "{'allergies', 'common cold', 'covid19', 'flu'}"
      ]
     },
     "execution_count": 4,
     "metadata": {},
     "output_type": "execute_result"
    }
   ],
   "source": [
    "set(medical_dataset['diagnosis'])"
   ]
  },
  {
   "cell_type": "code",
   "execution_count": 6,
   "metadata": {},
   "outputs": [],
   "source": [
    "\n",
    "#CREATE MODEL\n",
    "\n",
    "\n",
    "from sklearn.tree import DecisionTreeClassifier\n",
    "\n",
    "def diagnose_v4(train_dataset:pd.DataFrame):\n",
    "    \n",
    "    # create a Decision Tree Classifier\n",
    "    model=DecisionTreeClassifier(random_state=1)\n",
    "\n",
    "    # drop the diagnosis column to get only the symptoms\n",
    "    train_patient_symptoms=train_dataset.drop(columns=['diagnosis'])\n",
    "\n",
    "    # get the diagnosis column, to be used as the classification target\n",
    "    train_diagnoses=train_data['diagnosis']\n",
    "\n",
    "    # build a decision tree\n",
    "    model.fit(train_patient_symptoms, train_diagnoses)\n",
    "\n",
    "    # return the trained model\n",
    "    return model"
   ]
  },
  {
   "cell_type": "code",
   "execution_count": 7,
   "metadata": {},
   "outputs": [
    {
     "name": "stdout",
     "output_type": "stream",
     "text": [
      "(1400, 9)\n",
      "(600, 9)\n"
     ]
    }
   ],
   "source": [
    "from sklearn.model_selection import train_test_split \n",
    "train_data, test_data = train_test_split(medical_dataset, test_size=0.3, \n",
    "random_state=1)\n",
    "print(train_data.shape)\n",
    "print(test_data.shape)\n"
   ]
  },
  {
   "cell_type": "code",
   "execution_count": 8,
   "metadata": {},
   "outputs": [
    {
     "name": "stdout",
     "output_type": "stream",
     "text": [
      "['allergies' 'common cold' 'covid19' 'flu']\n"
     ]
    },
    {
     "data": {
      "text/plain": [
       "[Text(334.8, 285.39000000000004, 'fever <= 0.5\\ngini = 0.75\\nsamples = 1400\\nvalue = [354, 345, 358, 343]'),\n",
       " Text(167.4, 203.85000000000002, 'sore throat <= 0.5\\ngini = 0.606\\nsamples = 791\\nvalue = [354, 340, 71, 26]'),\n",
       " Text(83.7, 122.31, 'runny nose <= 0.5\\ngini = 0.497\\nsamples = 526\\nvalue = [354, 101, 58, 13]'),\n",
       " Text(41.85, 40.76999999999998, '\\n  (...)  \\n'),\n",
       " Text(125.55000000000001, 40.76999999999998, '\\n  (...)  \\n'),\n",
       " Text(251.10000000000002, 122.31, 'tiredness <= 0.5\\ngini = 0.182\\nsamples = 265\\nvalue = [0, 239, 13, 13]'),\n",
       " Text(209.25, 40.76999999999998, '\\n  (...)  \\n'),\n",
       " Text(292.95, 40.76999999999998, '\\n  (...)  \\n'),\n",
       " Text(502.20000000000005, 203.85000000000002, 'sore throat <= 0.5\\ngini = 0.507\\nsamples = 609\\nvalue = [0, 5, 287, 317]'),\n",
       " Text(418.5, 122.31, 'sneezing <= 0.5\\ngini = 0.387\\nsamples = 317\\nvalue = [0, 2, 235, 80]'),\n",
       " Text(376.65000000000003, 40.76999999999998, '\\n  (...)  \\n'),\n",
       " Text(460.35, 40.76999999999998, '\\n  (...)  \\n'),\n",
       " Text(585.9, 122.31, 'headache <= 0.5\\ngini = 0.309\\nsamples = 292\\nvalue = [0, 3, 52, 237]'),\n",
       " Text(544.0500000000001, 40.76999999999998, '\\n  (...)  \\n'),\n",
       " Text(627.75, 40.76999999999998, '\\n  (...)  \\n')]"
      ]
     },
     "execution_count": 8,
     "metadata": {},
     "output_type": "execute_result"
    },
    {
     "data": {
      "image/png": "[encoded data removed]",
      "text/plain": [
       "<Figure size 864x432 with 1 Axes>"
      ]
     },
     "metadata": {
      "needs_background": "light"
     },
     "output_type": "display_data"
    }
   ],
   "source": [
    "\n",
    "#DRAW DECISION TREE\n",
    "\n",
    "from sklearn.tree import plot_tree\n",
    "import matplotlib.pyplot as plt\n",
    "my_tree=diagnose_v4(train_data) # train a model\n",
    "print(my_tree.classes_) # print the possible target labels (diagnoses)\n",
    "plt.figure(figsize=(12,6)) # size of the visualization, in inches\n",
    "# plot the tree\n",
    "plot_tree(my_tree,\n",
    "            max_depth=2,\n",
    "            fontsize=10,\n",
    "            feature_names=medical_dataset.columns[:-1]\n",
    ")"
   ]
  },
  {
   "cell_type": "code",
   "execution_count": 9,
   "metadata": {},
   "outputs": [
    {
     "data": {
      "text/plain": [
       "0.8166666666666667"
      ]
     },
     "execution_count": 9,
     "metadata": {},
     "output_type": "execute_result"
    }
   ],
   "source": [
    "from sklearn.metrics import accuracy_score,confusion_matrix\n",
    "test_patient_symptoms=test_data.drop(columns=['diagnosis']) \n",
    "test_diagnoses=test_data['diagnosis']\n",
    "pred=my_tree.predict(test_patient_symptoms)\n",
    "accuracy_score(test_diagnoses,pred)"
   ]
  },
  {
   "cell_type": "code",
   "execution_count": 10,
   "metadata": {},
   "outputs": [
    {
     "data": {
      "text/plain": [
       "array([[143,   3,   0,   0],\n",
       "       [ 48,  98,   5,   4],\n",
       "       [  2,   1, 127,  12],\n",
       "       [  1,   3,  31, 122]], dtype=int64)"
      ]
     },
     "execution_count": 10,
     "metadata": {},
     "output_type": "execute_result"
    }
   ],
   "source": [
    "confusion_matrix(test_diagnoses,pred)"
   ]
  },
  {
   "cell_type": "code",
   "execution_count": null,
   "metadata": {},
   "outputs": [],
   "source": []
  },
  {
   "cell_type": "code",
   "execution_count": null,
   "metadata": {},
   "outputs": [],
   "source": []
  }
 ],
 "metadata": {
  "kernelspec": {
   "display_name": "Python 3",
   "language": "python",
   "name": "python3"
  },
  "language_info": {
   "codemirror_mode": {
    "name": "ipython",
    "version": 3
   },
   "file_extension": ".py",
   "mimetype": "text/x-python",
   "name": "python",
   "nbconvert_exporter": "python",
   "pygments_lexer": "ipython3",
   "version": "3.8.5"
  }
 },
 "nbformat": 4,
 "nbformat_minor": 4
}
